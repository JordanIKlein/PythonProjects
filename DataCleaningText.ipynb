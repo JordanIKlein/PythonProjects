{
 "cells": [
  {
   "cell_type": "markdown",
   "metadata": {},
   "source": [
    "### Cleaning Text Data Through a function"
   ]
  },
  {
   "cell_type": "code",
   "execution_count": 9,
   "metadata": {},
   "outputs": [
    {
     "name": "stdout",
     "output_type": "stream",
     "text": [
      "Have text to clean? Go ahead and follow the two steps.\n",
      "\n"
     ]
    },
    {
     "name": "stdin",
     "output_type": "stream",
     "text": [
      "Please enter a string:\n",
      " Lorem ipsum dolor sit amet, consectetur adipiscing elit. Mauris consequat eros quis nisl auctor dignissim. Mauris elementum eget nulla vitae condimentum. Nullam a eros facilisis, consectetur ligula eget, rhoncus velit. Vivamus id vulputate sapien. Donec vitae magna erat. Cras ac blandit mauris. Curabitur vel pellentesque leo. Nunc et porta ipsum, et convallis enim. Vivamus a ipsum eget nisl sollicitudin elementum vel at mi. Nam ex diam, dictum vitae convallis nec, suscipit et libero. Cras a augue pulvinar risus finibus sagittis.\n",
      "Please enter the characters you'd like to be removed:\n",
      " o\n"
     ]
    },
    {
     "data": {
      "text/plain": [
       "'Lrem ipsum dlr sit amet, cnsectetur adipiscing elit. Mauris cnsequat ers quis nisl auctr dignissim. Mauris elementum eget nulla vitae cndimentum. Nullam a ers facilisis, cnsectetur ligula eget, rhncus velit. Vivamus id vulputate sapien. Dnec vitae magna erat. Cras ac blandit mauris. Curabitur vel pellentesque le. Nunc et prta ipsum, et cnvallis enim. Vivamus a ipsum eget nisl sllicitudin elementum vel at mi. Nam ex diam, dictum vitae cnvallis nec, suscipit et liber. Cras a augue pulvinar risus finibus sagittis.'"
      ]
     },
     "execution_count": 9,
     "metadata": {},
     "output_type": "execute_result"
    }
   ],
   "source": [
    "print(\"Have text to clean? Go ahead and follow the two steps.\\n\")\n",
    "text = input(\"1) Please enter a string:\\n\")\n",
    "removedChars = input(\"2)Please enter the characters you'd like to be removed:\\n\")\n",
    "def DataClean(text):\n",
    "    for char in removedChars:\n",
    "        text = text.replace(char,\"\")\n",
    "        return text\n",
    "\n",
    "DataClean(text)"
   ]
  },
  {
   "cell_type": "markdown",
   "metadata": {},
   "source": [
    "### Text character replacement through a function"
   ]
  },
  {
   "cell_type": "code",
   "execution_count": 10,
   "metadata": {},
   "outputs": [
    {
     "name": "stdout",
     "output_type": "stream",
     "text": [
      "Have text to clean? Go ahead and follow the the three steps. Only works with one characters\n",
      "\n"
     ]
    },
    {
     "name": "stdin",
     "output_type": "stream",
     "text": [
      "1) Please enter a string:\n",
      " Lorem ipsum dolor sit amet, consectetur adipiscing elit. Mauris consequat eros quis nisl auctor dignissim. Mauris elementum eget nulla vitae condimentum. Nullam a eros facilisis, consectetur ligula eget, rhoncus velit. Vivamus id vulputate sapien. Donec vitae magna erat. Cras ac blandit mauris. Curabitur vel pellentesque leo. Nunc et porta ipsum, et convallis enim. Vivamus a ipsum eget nisl sollicitudin elementum vel at mi. Nam ex diam, dictum vitae convallis nec, suscipit et libero. Cras a augue pulvinar risus finibus sagittis.\n",
      "2)Please enter the character you'd like to be removed:\n",
      " o\n",
      "3)Please enter the character you'd like to replace it:\n",
      " a\n"
     ]
    },
    {
     "data": {
      "text/plain": [
       "'Larem ipsum dalar sit amet, cansectetur adipiscing elit. Mauris cansequat eras quis nisl auctar dignissim. Mauris elementum eget nulla vitae candimentum. Nullam a eras facilisis, cansectetur ligula eget, rhancus velit. Vivamus id vulputate sapien. Danec vitae magna erat. Cras ac blandit mauris. Curabitur vel pellentesque lea. Nunc et parta ipsum, et canvallis enim. Vivamus a ipsum eget nisl sallicitudin elementum vel at mi. Nam ex diam, dictum vitae canvallis nec, suscipit et libera. Cras a augue pulvinar risus finibus sagittis.'"
      ]
     },
     "execution_count": 10,
     "metadata": {},
     "output_type": "execute_result"
    }
   ],
   "source": [
    "print(\"Have text to clean? Go ahead and follow the the steps.\\n\")\n",
    "text = input(\"1) Please enter a string:\\n\")\n",
    "removedChars = input(\"2)Please enter the character you'd like to be removed:\\n\")\n",
    "replacedChars = input(\"3)Please enter the character you'd like to replace it:\\n\")\n",
    "def DataClean(text):\n",
    "    for char in removedChars:\n",
    "        text = text.replace(char,replacedChars)\n",
    "        return text\n",
    "DataClean(text)"
   ]
  },
  {
   "cell_type": "code",
   "execution_count": null,
   "metadata": {},
   "outputs": [],
   "source": []
  }
 ],
 "metadata": {
  "kernelspec": {
   "display_name": "Python 3",
   "language": "python",
   "name": "python3"
  },
  "language_info": {
   "codemirror_mode": {
    "name": "ipython",
    "version": 3
   },
   "file_extension": ".py",
   "mimetype": "text/x-python",
   "name": "python",
   "nbconvert_exporter": "python",
   "pygments_lexer": "ipython3",
   "version": "3.6.5"
  }
 },
 "nbformat": 4,
 "nbformat_minor": 4
}
