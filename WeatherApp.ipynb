{
 "cells": [
  {
   "cell_type": "code",
   "execution_count": 1,
   "metadata": {},
   "outputs": [],
   "source": [
    "from tkinter import *\n",
    "from PIL import ImageTk,Image\n",
    "import requests\n",
    "import json\n",
    "#importing tkinter GUI"
   ]
  },
  {
   "cell_type": "code",
   "execution_count": 2,
   "metadata": {},
   "outputs": [
    {
     "data": {
      "text/plain": [
       "''"
      ]
     },
     "execution_count": 2,
     "metadata": {},
     "output_type": "execute_result"
    }
   ],
   "source": [
    "#Building the GUI\n",
    "root = Tk()\n",
    "root.title('Python Air Quality Application')\n",
    "root.geometry(\"600x100\") #defines operations"
   ]
  },
  {
   "cell_type": "code",
   "execution_count": 3,
   "metadata": {},
   "outputs": [],
   "source": [
    "#API Request\n",
    "#Creating Zipcode lookup function\n",
    "def zipLookup():\n",
    "    #zip.get()\n",
    "    #zipLabel = Label(root, text=zip.get())\n",
    "    #zipLabel.grid(row=1.column=0, columnspan=2)\n",
    "    try:\n",
    "        api_request = requests.get(\"http://www.airnowapi.org/aq/forecast/zipCode/?format=application/json&zipCode=\" + zip.get() + \"&date=2020-05-23&distance=10&API_KEY=C310B583-B9B8-4DE9-8225-7F9459AB7B94\")\n",
    "        api = json.loads(api_request.content)\n",
    "        city = api[0]['ReportingArea']\n",
    "        quality = api[0]['AQI']\n",
    "        category = api[0]['Category']['Name']\n",
    "        \n",
    "        #Creating a background depending on the Quality\n",
    "        if category == \"Good\":\n",
    "            weather_color = \"#0C0\"\n",
    "        elif category == \"Moderate\":\n",
    "            weather_color = \"#FFFF00\"\n",
    "        elif category == \"Unhealthy for Sensitive Groups\":\n",
    "            weather_color = \"#ff9900\"\n",
    "        elif category == \"Unhealthy\":\n",
    "            weather_color = \"#FF0000\"\n",
    "        elif category == \"Very Unhealthy\":\n",
    "            weather_color = \"#990066\"\n",
    "        elif category == \"Hazardous\":\n",
    "            weather_color = \"#660000\"\n",
    "        root.configure(background= weather_color)\n",
    "        myLabel = Label(root, text=city + \" Air Quality: \" + str(quality) + \" \" + category, font=(\"Helevetica\", 20), background= weather_color)\n",
    "        myLabel.grid(row=1, column=0, columnspan=2)\n",
    "    except Exception as e:\n",
    "        api = \"Error...\"\n",
    "\n",
    "zip = Entry(root)\n",
    "zip.grid(row=0, column=0, stick=W+E+N+S)\n",
    "\n",
    "zipcodeButton = Button(root, text= \"Look Up Zipcode\", command= zipLookup)\n",
    "zipcodeButton.grid(row=0, column=1, stick=W+E+N+S)\n",
    "\n",
    "root.mainloop() #Run GUI"
   ]
  },
  {
   "cell_type": "markdown",
   "metadata": {},
   "source": [
    "# Final Result"
   ]
  },
  {
   "cell_type": "markdown",
   "metadata": {},
   "source": [
    "<img src=\"weatherpicture.png\" style=\"width:1000px;height:1000px\"/>"
   ]
  },
  {
   "cell_type": "code",
   "execution_count": null,
   "metadata": {},
   "outputs": [],
   "source": []
  }
 ],
 "metadata": {
  "kernelspec": {
   "display_name": "Python 3",
   "language": "python",
   "name": "python3"
  },
  "language_info": {
   "codemirror_mode": {
    "name": "ipython",
    "version": 3
   },
   "file_extension": ".py",
   "mimetype": "text/x-python",
   "name": "python",
   "nbconvert_exporter": "python",
   "pygments_lexer": "ipython3",
   "version": "3.6.5"
  }
 },
 "nbformat": 4,
 "nbformat_minor": 2
}
